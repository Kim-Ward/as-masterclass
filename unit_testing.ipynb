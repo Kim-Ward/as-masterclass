{
 "cells": [
  {
   "cell_type": "markdown",
   "metadata": {
    "deletable": true,
    "editable": true
   },
   "source": [
    "# Introduction to Unit Testing in R"
   ]
  },
  {
   "cell_type": "markdown",
   "metadata": {
    "deletable": true,
    "editable": true
   },
   "source": [
    "`testthat` is a testing framework developed by Hadley Wickham, which makes unit testing easy. These exercises are designed to introduce you to how `testthat` and unit testing in general works in practice.\n",
    "\n",
    "You should be familiar with what a function is and how to make one in R to get a good grasp of this testing framework. The final exercise will require you to know (or Google) how to write a for loop and an if statement in R.\n",
    "\n",
    "## 0: The Basics of Testthat"
   ]
  },
  {
   "cell_type": "markdown",
   "metadata": {
    "deletable": true,
    "editable": true
   },
   "source": [
    "### Exercise 0.1\n",
    "Run the code in the cell below to load the package `testthat` into your workspace. To use this on your own machine rather than this notebook environment, you may need to first install  the package using `install.packages(\"testthat\")`, or follow your department's procedures for installing R packages."
   ]
  },
  {
   "cell_type": "code",
   "execution_count": 12,
   "metadata": {
    "collapsed": false,
    "deletable": true,
    "editable": true
   },
   "outputs": [],
   "source": [
    "library(testthat)"
   ]
  },
  {
   "cell_type": "markdown",
   "metadata": {
    "deletable": true,
    "editable": true
   },
   "source": [
    "### Exercise 0.2\n",
    "`expect_equal()` is the function that makes the binary assertion of whether or not the value is as expected.\n",
    "`expect_equal(a, b)` reads as “it is expected that ‘a’ will be equal to ‘b’”.\n",
    "\n",
    "Use this function to see if 5 \\* 2 equals 10. Now, use it to see if 3 \\* 4 = 10."
   ]
  },
  {
   "cell_type": "code",
   "execution_count": null,
   "metadata": {
    "collapsed": false,
    "deletable": true,
    "editable": true
   },
   "outputs": [],
   "source": []
  },
  {
   "cell_type": "markdown",
   "metadata": {
    "deletable": true,
    "editable": true
   },
   "source": [
    "### Exercise 0.3\n",
    "\n",
    "The function `expect_equal()` checks for equality with a numerical tolerance. Let’s see what that tolerance level is.\n",
    "\n",
    "Use an appropriate function to see if 5 * 2 equals 10 + (1e-7). Does the test fail?\n",
    "\n",
    "Change the value to 1e-6 and see what happens."
   ]
  },
  {
   "cell_type": "code",
   "execution_count": null,
   "metadata": {
    "collapsed": false,
    "deletable": true,
    "editable": true
   },
   "outputs": [],
   "source": []
  },
  {
   "cell_type": "markdown",
   "metadata": {
    "deletable": true,
    "editable": true
   },
   "source": [
    "### Exercise 0.4\n",
    "\n",
    "To exactly match the values `expect_identical()` can be used instead of `expect_equal()`.\n",
    "\n",
    "Using the appropriate function, check if 2 * 2 is identical to 4 + (1e-8)."
   ]
  },
  {
   "cell_type": "code",
   "execution_count": null,
   "metadata": {
    "collapsed": false,
    "deletable": true,
    "editable": true
   },
   "outputs": [],
   "source": []
  },
  {
   "cell_type": "markdown",
   "metadata": {
    "deletable": true,
    "editable": true
   },
   "source": [
    "We can also use `expect_gt()`, `expect_lt()`, `expect_gte()` and `expect_lte()` to check whether results are greater than, less than, etc. A reference for other types of expectation statements is available [here](https://testthat.r-lib.org/reference/index.html).\n",
    "\n"
   ]
  },
  {
   "cell_type": "markdown",
   "metadata": {
    "deletable": true,
    "editable": true
   },
   "source": [
    "### Exercise 0.5\n",
    "\n",
    "The function `expect_error(\"the name of the error\")` can be used to check that the code doesn't accidentally work when it *shouldn't*. This can be very important in larger pieces of code, as if errors aren't thrown when they should be then bugs become very hard to track down.\n",
    "\n",
    "First, create a two-argument function `multiply` to multiply two numbers and using an `expect_error()` statement, check if `multiply(2, 3)` throws an error. (It shouldn't).\n",
    "\n",
    "Then, check if `multiply(\"2\",\"3\")` throws an error `\"non-numeric argument to binary operator\"`. What happens if you specify the wrong error?"
   ]
  },
  {
   "cell_type": "code",
   "execution_count": null,
   "metadata": {
    "collapsed": false,
    "deletable": true,
    "editable": true
   },
   "outputs": [],
   "source": []
  },
  {
   "cell_type": "markdown",
   "metadata": {
    "deletable": true,
    "editable": true
   },
   "source": [
    "### Testing\n",
    "\n",
    "Now that we know how to check for expectations, let us create an actual test. In R, we use test_that() to write unit tests. The first argument is the description of the test, and the second argument is a collection of expectations as we made above.\n",
    "\n",
    "An example is shown below."
   ]
  },
  {
   "cell_type": "code",
   "execution_count": 1,
   "metadata": {
    "collapsed": false,
    "deletable": true,
    "editable": true
   },
   "outputs": [],
   "source": [
    "add <- function(x, y){return(x+y)}\n",
    "\n",
    "test_that(\"Testing addition function\", {\n",
    "    expect_equal(add(2, 3), 5)\n",
    "    expect_equal(add(-Inf, Inf), NaN)\n",
    "})"
   ]
  },
  {
   "cell_type": "markdown",
   "metadata": {
    "deletable": true,
    "editable": true
   },
   "source": [
    "### Exercise 0.6\n",
    "\n",
    "Create a test for your function `multiply` with description “Testing multiplication function” and add a few scenarios to it.\n",
    "1. Check if `multiply(2,3)` equals `6`.\n",
    "2. Check if `multiply(2,c(2,3))` equals `c(4,6)`.\n",
    "3. Check if `multiply(2,\"3\")` throws an error “non-numeric argument to binary operator”.\n",
    "\n",
    "Once that's done, go back and edit `multiply` so that it fails one of the tests. Look at the error message this causes. Now  edit `multiply` so that it fails *two* of the tests and compare this error message to the first one. Consider that in normal R code, once an error occurs, the rest of the script will not run. Why do we group our tests using `test_that()` rather than just having long lists of `expect_that()` statements?"
   ]
  },
  {
   "cell_type": "code",
   "execution_count": null,
   "metadata": {
    "collapsed": false,
    "deletable": true,
    "editable": true
   },
   "outputs": [],
   "source": []
  },
  {
   "cell_type": "markdown",
   "metadata": {
    "deletable": true,
    "editable": true
   },
   "source": [
    "## What makes a good test?\n",
    "\n",
    "We could write tests all day and still miss problems. Moreover, the bigger our test suite, the more costly it is to maintain. We have to focus our energy on only the most effective tests. Great tests have:\n",
    "\n",
    "* a high true positive rate (they catch the meaningful errors)\n",
    "* a low false positive rate (they don't fail when nothing is wrong)\n",
    "* low maintenance costs when you work on the code later\n",
    "\n",
    "Normally, a \"good\" test can achieve at least 2 of the 3. What this means in practice can be unclear if you haven't written many tests before, so let's have a look at some examples.\n",
    "\n",
    "### Exercise 1\n",
    "\n",
    " Each of the test suites below has a problem from one of the above three categories associated with it. Can you identify which test suite has which problem type, why, and how it could be fixed? Have a chat with your neighbour and see if the two of you can agree."
   ]
  },
  {
   "cell_type": "code",
   "execution_count": 2,
   "metadata": {
    "collapsed": false,
    "deletable": true,
    "editable": true
   },
   "outputs": []
    }
   ],
   "source": [
    "X = runif(1, 0, 10) #generates a random number between 0 and 10\n",
    "\n",
    "test_that(\"Test suite 1 for addition function\", { \n",
    "    expect_equal(add(X, 0), X)\n",
    "    expect_equal(add(X, 2*X), 3*X)\n",
    "    expect_equal(add(X, Inf), Inf)\n",
    "})\n",
    "\n",
    "test_that(\"Test suite 2 for addition function\", {\n",
    "    expect_equal(add(2, 3), 2+3)\n",
    "    expect_equal(add(5, -4), 5-4)\n",
    "})\n",
    "\n",
    "test_that(\"Test suite 3 for addition function\", {\n",
    "    expect_equal(add(3, 3), multiply(3, 2))\n",
    "    expect_equal(add(4, 8), multiply(2, 6))\n",
    "})"
   ]
  },
  {
   "cell_type": "markdown",
   "metadata": {
    "deletable": true,
    "editable": true
   },
   "source": [
    "## Unit Testing in an Analysis Workflow\n",
    "\n",
    "Writing tests on nice, isolated pieces of arithmetic that look nothing like the code we actually write is all well and good, but how does this fit into a standard data analysis workflow? The below exercise uses the `mtcars` dataset of car road test data published in *Motor Trend* magazine, and available as a standard variable in R.\n",
    "\n",
    "Let's say you've written an analysis pipeline that takes this year's car data, writes a quick bulletin about it (inserting the correct numbers into prewritten sentences), and publishes that on a dashboard with some graphs. That way, when next year's data comes through, all you have to do is run the pipeline and you're done!\n",
    "\n",
    "In this case, you might want to use unit testing to automate some of your exploratory data analysis on the new data that comes through. Some tests you might want to write include:\n",
    "\n",
    "* checking the input file is in the correct file format\n",
    "* checking how many rows and columns the data has\n",
    "* checking the row and column names and data types\n",
    "* searching for missing values in the data\n",
    "* searching for outliers in the data\n",
    "\n",
    "### Exercise 2\n",
    "\n",
    "Look at `mtcars`, then write a test confirming it has the correct number of rows and columns (you can use `ncol()` and `nrow()`). Then, write a test confirming `mtcars` has no missing values using `na.omit()`."
   ]
  },
  {
   "cell_type": "code",
   "execution_count": null,
   "metadata": {
    "collapsed": true,
    "deletable": true,
    "editable": true
   },
   "outputs": [],
   "source": []
  },
  {
   "cell_type": "markdown",
   "metadata": {
    "collapsed": true,
    "deletable": true,
    "editable": true
   },
   "source": [
    "## Testing when Debugging\n",
    "\n",
    "It's generally good practice to, whenever you find and then fix a bug in your code, write a test then and there confirming that the bug is fixed. That way, if the bug re-appears due to changes made in future, you'll know immediately.\n",
    "\n",
    "### Exercise 3\n",
    "\n",
    "The functions below were written to encrypt and decrypt letters using the \"Ceasar cipher\", which converts letters to numbers and then adds them up, wrapping around the alphabet from Z to A, to give an encrypted letter. Decryption is the same but in reverse. Encrypting or decrypting with the letter \"Z\" should do precisely nothing, as it wraps 26 places round the alphabet back to where you started.\n",
    "\n",
    "Unfortunately, there's some bugs in this code. Can you find the problems, and then fix them, writing some tests to prove they've gone? A hint for starters: try encrypting \"A\" with \"G\", and then \"W\" with \"G\"."
   ]
  },
  {
   "cell_type": "code",
   "execution_count": 11,
   "metadata": {
    "collapsed": false,
    "deletable": true,
    "editable": true
   },
   "outputs": [
    {
     "data": {
      "text/html": [
       "'I'"
      ],
      "text/latex": [
       "'I'"
      ],
      "text/markdown": [
       "'I'"
      ],
      "text/plain": [
       "[1] \"I\""
      ]
     },
     "metadata": {},
     "output_type": "display_data"
    }
   ],
   "source": [
    "letter2num <- function(x) {utf8ToInt(x) - utf8ToInt(\"A\") + 1}\n",
    "\n",
    "encrypt_letter <- function(message_letter, key_letter){\n",
    "  encrypted_number <- letter2num(message_letter) + letter2num(key_letter) %% 26\n",
    "  encrypted_letter <- LETTERS[encrypted_number]\n",
    "  return(encrypted_letter)\n",
    "}\n",
    "\n",
    "decrypt_letter <- function(encrypted_letter, key_letter){\n",
    "  message_number <- letter2num(encrypted_letter) - letter2num(key_letter) %% 26\n",
    "  message_letter <- LETTERS[message_number]\n",
    "  return(message_letter)\n",
    "}\n",
    "\n",
    "test_that(\"Testing encryption and decryption for letters\", {\n",
    "# Your tests here\n",
    "})\n"
   ]
  },
  {
   "cell_type": "markdown",
   "metadata": {
    "collapsed": true,
    "deletable": true,
    "editable": true
   },
   "source": [
    "## Test-Driven Development\n",
    "\n",
    "When you're writing a complex piece of code, it can often be helpful to write your tests first. This is the programmer's version of \"begin with the end in mind\"; not only does it help you plan, but it means you won't forget to add tests in afterwards because they're already there!\n",
    "\n",
    "### Exercise 4\n",
    "\n",
    "Here, we want to write a function that encrypts or decrypts an entire word using the Ceasar cipher. A basic framework and some tests have been provided for you; it's your job to write something so that the tests pass.\n",
    "\n",
    "Some tips:\n",
    "* `character(0)` will give you an empty character vector.\n",
    "* `nchar()` will give you the number of characters in a string.\n",
    "* the `paste()` function with argument `collapse=\"\"` will turn a character vector into a string.\n",
    "* `substring(my_string, i, i)` will give you the ith character in `my_string`."
   ]
  },
  {
   "cell_type": "code",
   "execution_count": null,
   "metadata": {
    "collapsed": true,
    "deletable": true,
    "editable": true
   },
   "outputs": [],
   "source": [
    "ceasar_cipher <- function(message, key_letter, decrypt=FALSE){\n",
    "    #Your function here\n",
    "    \n",
    "    return(new_message)\n",
    "}\n",
    "\n",
    "test_that(\"Testing encryption and decryption for messages\", {\n",
    "    expect_equal(ceasar_cipher(\"HELLO\", \"Z\"), \"HELLO\")\n",
    "    expect_equal(ceasar_cipher(\"S\", \"D\"), encrypt_letter(\"S\", \"D\"))\n",
    "    expect_equal(ceasar_cipher(ceasar_cipher(\"WORLD\", \"T\"), \"T\", decrypt=TRUE), \"WORLD\")\n",
    "    \n",
    "    #Bonus challenge for anyone who gets this far:\n",
    "    expect_equal(ceasar_cipher(ceasar_cipher(\"WORLD\", \"C\"), \"C\", decrypt=TRUE), \"WORLD\")\n",
    "\n",
    "})\n"
   ]
  },
  {
   "cell_type": "markdown",
   "metadata": {
    "deletable": true,
    "editable": true
   },
   "source": [
    "Once you've finished the exercises, see if you can help anyone near you who is struggling."
   ]
  },
  {
   "cell_type": "code",
   "execution_count": null,
   "metadata": {
    "collapsed": true,
    "deletable": true,
    "editable": true
   },
   "outputs": [],
   "source": []
  }
 ],
 "metadata": {
  "kernelspec": {
   "display_name": "R",
   "language": "R",
   "name": "ir"
  },
  "language_info": {
   "codemirror_mode": "r",
   "file_extension": ".r",
   "mimetype": "text/x-r-source",
   "name": "R",
   "pygments_lexer": "r",
   "version": "3.3.3"
  }
 },
 "nbformat": 4,
 "nbformat_minor": 2
}
